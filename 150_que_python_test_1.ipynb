{
 "cells": [
  {
   "cell_type": "markdown",
   "id": "022c2903",
   "metadata": {},
   "source": [
    "## Python Basic (Part -I) - Exercises, Practice, Solution"
   ]
  },
  {
   "cell_type": "raw",
   "id": "1a688675",
   "metadata": {},
   "source": [
    "1. Write a Python program to print the following string in a specific format (see the output).\n",
    "Sample String : \"Twinkle, twinkle, little star, How I wonder what you are! Up above the world so high, Like a diamond in the sky. Twinkle, twinkle, little star, How I wonder what you are\"\n",
    "Output :\n",
    "\n",
    "Twinkle, twinkle, little star,\n",
    "\tHow I wonder what you are! \n",
    "\t\tUp above the world so high,   \t\t\n",
    "\t\tLike a diamond in the sky. \n",
    "Twinkle, twinkle, little star, \n",
    "\tHow I wonder what you are"
   ]
  },
  {
   "cell_type": "code",
   "execution_count": null,
   "id": "e6d7939c",
   "metadata": {},
   "outputs": [],
   "source": [
    "print(\"Twinkle, twinkle, little star,\\n\\tHow I wonder what you are! \\n\\t\\tUp above the world so high,\\n\\t\\t Like a diamond in the sky.\\n Twinkle, twinkle, little star,\\n\\tHow I wonder what you are\")"
   ]
  },
  {
   "cell_type": "raw",
   "id": "cb29e537",
   "metadata": {},
   "source": [
    "2. Write a Python program to find out what version of Python you are using."
   ]
  },
  {
   "cell_type": "code",
   "execution_count": null,
   "id": "ef62e843",
   "metadata": {},
   "outputs": [],
   "source": [
    "import platform\n",
    "print(platform.python_version())"
   ]
  },
  {
   "cell_type": "raw",
   "id": "c6fd537b",
   "metadata": {},
   "source": [
    "3. Write a Python program to display the current date and time.\n",
    "Sample Output :\n",
    "Current date and time :\n",
    "2014-07-05 14:34:14"
   ]
  },
  {
   "cell_type": "code",
   "execution_count": null,
   "id": "26fc6316",
   "metadata": {},
   "outputs": [],
   "source": [
    "from datetime import datetime as dt\n",
    "date=dt.now()\n",
    "print(date)\n",
    "print(date.strftime(\"%d-%m-%Y %H:%M:%S\"))"
   ]
  },
  {
   "cell_type": "raw",
   "id": "c2896059",
   "metadata": {},
   "source": [
    "4. Write a Python program that calculates the area of a circle based on the radius entered by the user.\n",
    "Sample Output :\n",
    "r = 1.1\n",
    "Area = 3.8013271108436504"
   ]
  },
  {
   "cell_type": "code",
   "execution_count": null,
   "id": "0fb2d0c5",
   "metadata": {},
   "outputs": [],
   "source": [
    "from math import pi\n",
    "radius=float(input(\"Enter radius= \"))\n",
    "print(\"Area of radius  \",str(radius),\"is = \",pi*radius**2)"
   ]
  },
  {
   "cell_type": "raw",
   "id": "3e9608fb",
   "metadata": {},
   "source": [
    "5. Write a Python program that accepts the user's first and last name and prints them in reverse order with a space between them."
   ]
  },
  {
   "cell_type": "code",
   "execution_count": null,
   "id": "86e986a8",
   "metadata": {},
   "outputs": [],
   "source": [
    "fname=input(\"Enter first name= \")\n",
    "lname=input(\"Enter Last name = \")\n",
    "print(\"hello {} {}\".format(lname,fname) )"
   ]
  },
  {
   "cell_type": "raw",
   "id": "0a2965fb",
   "metadata": {},
   "source": [
    "6. Write a Python program that accepts a sequence of comma-separated numbers from the user and generates a list and a tuple of those numbers.\n",
    "Sample data : 3, 5, 7, 23\n",
    "Output :\n",
    "List : ['3', ' 5', ' 7', ' 23']\n",
    "Tuple : ('3', ' 5', ' 7', ' 23')"
   ]
  },
  {
   "cell_type": "code",
   "execution_count": null,
   "id": "0d562d95",
   "metadata": {},
   "outputs": [],
   "source": [
    "data=input(\"Enter values = \")\n",
    "sample=data.split(\",\")\n",
    "l1=list(sample)\n",
    "t1=tuple(sample)\n",
    "print(l1)\n",
    "print(t1)"
   ]
  },
  {
   "cell_type": "raw",
   "id": "d1b8561c",
   "metadata": {},
   "source": [
    "7. Write a Python program that accepts a filename from the user and prints the extension of the file.\n",
    "Sample filename : abc.java\n",
    "Output : java"
   ]
  },
  {
   "cell_type": "code",
   "execution_count": null,
   "id": "0bdf4a99",
   "metadata": {},
   "outputs": [],
   "source": [
    "filename=input(\"Enter filename= \")\n",
    "f_extent=filename.split(\".\")\n",
    "print(f_extent[-1])"
   ]
  },
  {
   "cell_type": "raw",
   "id": "1050ce5f",
   "metadata": {},
   "source": [
    "8. Write a Python program to display the first and last colors from the following list.\n",
    "color_list = [\"Red\",\"Green\",\"White\" ,\"Black\"]"
   ]
  },
  {
   "cell_type": "code",
   "execution_count": null,
   "id": "fb04c3d3",
   "metadata": {},
   "outputs": [],
   "source": [
    "color_list = [\"Red\",\"Green\",\"White\" ,\"Black\"]\n",
    "print(\"%s %s\"%(color_list[0],color_list[-1]))"
   ]
  },
  {
   "cell_type": "raw",
   "id": "b3ce4643",
   "metadata": {},
   "source": [
    "9. Write a Python program to display the examination schedule. (extract the date from exam_st_date).\n",
    "exam_st_date = (11, 12, 2014)\n",
    "Sample Output : The examination will start from : 11 / 12 / 2014"
   ]
  },
  {
   "cell_type": "code",
   "execution_count": null,
   "id": "c74ca5ee",
   "metadata": {},
   "outputs": [],
   "source": [
    "\n",
    "exam_st_date = (11, 12, 2014)\n",
    "print(\"%i/%i/%i\"%(exam_st_date))"
   ]
  },
  {
   "cell_type": "raw",
   "id": "8d8d2f53",
   "metadata": {},
   "source": [
    "10. Write a Python program that accepts an integer (n) and computes the value of n+nn+nnn.\n",
    "Sample value of n is 5\n",
    "Expected Result : 615"
   ]
  },
  {
   "cell_type": "code",
   "execution_count": null,
   "id": "67514e29",
   "metadata": {},
   "outputs": [],
   "source": [
    "a = int(input(\"Input an integer : \"))\n",
    "n1 = int( \"%s\" % a )\n",
    "n2 = int( \"%s%s\" % (a,a) )\n",
    "n3 = int( \"%s%s%s\" % (a,a,a) )\n",
    "print (n3)"
   ]
  },
  {
   "cell_type": "raw",
   "id": "8aa8f4fb",
   "metadata": {},
   "source": [
    "11. Write a Python program to print the documents (syntax, description etc.) of Python built-in function(s)\n",
    "Sample function : abs()\n",
    "Expected Result :\n",
    "abs(number) -> number\n",
    "Return the absolute value of the argument"
   ]
  },
  {
   "cell_type": "code",
   "execution_count": null,
   "id": "48600daf",
   "metadata": {},
   "outputs": [],
   "source": [
    "num=float(input(\"Enter number = \"))\n",
    "print(abs(num))\n",
    "print(abs.__doc__)"
   ]
  },
  {
   "cell_type": "raw",
   "id": "1caf0ec7",
   "metadata": {},
   "source": [
    "12. Write a Python program that prints the calendar for a given month and year.\n",
    "Note : Use 'calendar' module."
   ]
  },
  {
   "cell_type": "code",
   "execution_count": null,
   "id": "41916279",
   "metadata": {},
   "outputs": [],
   "source": [
    "import calendar\n",
    "year=int(input(\"Enter year = \"))\n",
    "month=int(input(\"Enter month = \"))\n",
    "print(calendar.month(year,month))"
   ]
  },
  {
   "cell_type": "raw",
   "id": "50118f6c",
   "metadata": {},
   "source": [
    "13. Write a Python program to print the following 'here document'.\n",
    "Sample string :\n",
    "a string that you \"don't\" have to escape\n",
    "This\n",
    "is a ....... multi-line\n",
    "heredoc string --------> example"
   ]
  },
  {
   "cell_type": "code",
   "execution_count": null,
   "id": "eeb0c985",
   "metadata": {},
   "outputs": [],
   "source": [
    "print(\"\"\"a string that you \"don't\" have to escape\n",
    "This\n",
    "is a ....... multi-line\n",
    "heredoc string --------> example\"\"\")"
   ]
  },
  {
   "cell_type": "raw",
   "id": "5d10cd75",
   "metadata": {},
   "source": [
    "14. Write a Python program to calculate the number of days between two dates.\n",
    "Sample dates : (2014, 7, 2), (2014, 7, 11)\n",
    "Expected output : 9 days"
   ]
  },
  {
   "cell_type": "code",
   "execution_count": null,
   "id": "7d358284",
   "metadata": {},
   "outputs": [],
   "source": [
    "from datetime import date\n",
    "d1=date(2014,7,2)\n",
    "d2=date(2014,7,11)\n",
    "print(\"difference between dates is \",d2-d1)"
   ]
  },
  {
   "cell_type": "raw",
   "id": "ddf0ad0b",
   "metadata": {},
   "source": [
    "15. Write a Python program to calculate the difference between a given number and 17. If the number is greater than 17, return twice the absolute difference"
   ]
  },
  {
   "cell_type": "code",
   "execution_count": null,
   "id": "d1357b30",
   "metadata": {},
   "outputs": [],
   "source": [
    "num=int(input(\"Enter number = \"))\n",
    "if num<17:\n",
    "    print(\"diffrence between 17 and \",num,\"is\",17-num)\n",
    "else:\n",
    "    diff=17-num\n",
    "    print(\"diffrence is \",2*abs(diff))"
   ]
  },
  {
   "cell_type": "raw",
   "id": "55b670b8",
   "metadata": {},
   "source": [
    "17. Write a Python program to test whether a number is within 100 of 1000 or 2000."
   ]
  },
  {
   "cell_type": "code",
   "execution_count": null,
   "id": "94040cf0",
   "metadata": {},
   "outputs": [],
   "source": [
    "def diffrence(n):\n",
    "    return ((abs(1000-n)<=100) or (abs(2000-n)<=100))\n",
    "print(diffrence(1000))\n",
    "print(diffrence(200))\n",
    "print(diffrence(800))\n",
    "print(diffrence(950))"
   ]
  },
  {
   "cell_type": "raw",
   "id": "06cf2a49",
   "metadata": {},
   "source": [
    "18. Write a Python program to calculate the sum of three given numbers. If the values are equal, return three times their sum."
   ]
  },
  {
   "cell_type": "code",
   "execution_count": null,
   "id": "9b005f19",
   "metadata": {},
   "outputs": [],
   "source": [
    "def summation(n1,n2,n3):\n",
    "    if n1==n2 and n2==n3 and n3==n1:\n",
    "        return 3*(n1+n2+n3)\n",
    "    else:\n",
    "        return n1+n2+n3\n",
    "summation(1,1,2)"
   ]
  },
  {
   "cell_type": "raw",
   "id": "1080f7c5",
   "metadata": {},
   "source": [
    "19 Write a Python program to get a newly-generated string from a given string where \"Is\" has been added to the front. Return the string unchanged if the given string already begins with \"Is\""
   ]
  },
  {
   "cell_type": "code",
   "execution_count": null,
   "id": "8ea78485",
   "metadata": {},
   "outputs": [],
   "source": [
    "def st(data):\n",
    "    if data[:2]==\"Is\":\n",
    "        return data\n",
    "    else:\n",
    "        d2=\"IS\"+' '+data\n",
    "        return d2\n",
    "st(\"Is morning\")"
   ]
  },
  {
   "cell_type": "raw",
   "id": "536a56d6",
   "metadata": {},
   "source": [
    "20 Write a Python program that returns a string that is n (non-negative integer) copies of a given string."
   ]
  },
  {
   "cell_type": "code",
   "execution_count": null,
   "id": "7a7d6055",
   "metadata": {},
   "outputs": [],
   "source": [
    "def data(string,n):\n",
    "    result=\" \"\n",
    "    for p in range(n):\n",
    "        result=result+string\n",
    "    return result\n",
    "\n",
    "data(\"priya\",4)"
   ]
  },
  {
   "cell_type": "code",
   "execution_count": null,
   "id": "e28e176b",
   "metadata": {},
   "outputs": [],
   "source": [
    "def data(string,n):\n",
    "    \n",
    "    return string*n\n",
    "\n",
    "data(\"priya\",4)"
   ]
  },
  {
   "cell_type": "raw",
   "id": "7f59fa5f",
   "metadata": {},
   "source": [
    "21 Write a Python program that determines whether a given number (accepted from the user) is even or odd, and prints an appropriate message to the user."
   ]
  },
  {
   "cell_type": "code",
   "execution_count": null,
   "id": "666476bb",
   "metadata": {},
   "outputs": [],
   "source": [
    "num=int(input(\"Enter number = \"))\n",
    "\n",
    "def evenORodd(num):\n",
    "    if num%2==0:\n",
    "        return \"number is even \"\n",
    "    return \"number is odd \"\n",
    "evenORodd(num)"
   ]
  },
  {
   "cell_type": "raw",
   "id": "1c687e5b",
   "metadata": {},
   "source": [
    "22. Write a Python program to count the number 4 in a given list."
   ]
  },
  {
   "cell_type": "code",
   "execution_count": null,
   "id": "878f329f",
   "metadata": {},
   "outputs": [],
   "source": [
    "user=input(\"Enter numbers = \")\n",
    "def countnum(nums):\n",
    "    count=0\n",
    "    for i in nums:\n",
    "        if int(i)==4:\n",
    "            count=count+1\n",
    "    return count\n",
    "countnum(list(user))\n"
   ]
  },
  {
   "cell_type": "raw",
   "id": "b6b21b52",
   "metadata": {},
   "source": [
    "23 Write a Python program to get n (non-negative integer) copies of the first 2 characters of a given string. Return n copies of the whole string if the length is less than 2."
   ]
  },
  {
   "cell_type": "code",
   "execution_count": null,
   "id": "227e2540",
   "metadata": {},
   "outputs": [],
   "source": [
    "def String1(string,n):\n",
    "    if len(string)<2:\n",
    "        return string*n\n",
    "    return string[:2]*n\n",
    "String1('a',3)"
   ]
  },
  {
   "cell_type": "raw",
   "id": "f665ae36",
   "metadata": {},
   "source": [
    "24. Write a Python program to test whether a passed letter is a vowel or not."
   ]
  },
  {
   "cell_type": "code",
   "execution_count": null,
   "id": "65624eb4",
   "metadata": {},
   "outputs": [],
   "source": [
    "vovels='aeiou'\n",
    "def check(string):\n",
    "    if string in vovels:\n",
    "        return string+\" \"+\"is vovel\"\n",
    "    return string+\" \"+\"is not vovel\"\n",
    "check(\"c\")"
   ]
  },
  {
   "cell_type": "raw",
   "id": "f5fd6b94",
   "metadata": {},
   "source": [
    "25. Write a Python program that checks whether a specified value is contained within a group of values.\n",
    "Test Data :\n",
    "3 -> [1, 5, 8, 3] : True\n",
    "-1 -> [1, 5, 8, 3] : False"
   ]
  },
  {
   "cell_type": "code",
   "execution_count": null,
   "id": "133f5570",
   "metadata": {},
   "outputs": [],
   "source": [
    "def check (data):\n",
    "    l1=[1,5,8,3]\n",
    "    return data in l1\n",
    "print(check(3))\n",
    "print(check(-1))"
   ]
  },
  {
   "cell_type": "raw",
   "id": "423e7c3f",
   "metadata": {},
   "source": [
    "26. Write a Python program to create a histogram from a given list of integers."
   ]
  },
  {
   "cell_type": "code",
   "execution_count": null,
   "id": "91bb28a1",
   "metadata": {},
   "outputs": [],
   "source": [
    "def histogram(l1):\n",
    "    for i in l1:\n",
    "        output=\"\"\n",
    "        n=i\n",
    "        while(n>0):\n",
    "            output+='*'\n",
    "            n=n-1\n",
    "        print(output)\n",
    "            \n",
    "histogram([3,2,6,9])"
   ]
  },
  {
   "cell_type": "code",
   "execution_count": null,
   "id": "0a01245f",
   "metadata": {},
   "outputs": [],
   "source": [
    "\n",
    "def histogram(l1):\n",
    "    \n",
    "    for i in l1:\n",
    "        output=\"\"\n",
    "        for j in range(i):\n",
    "            output+=\"*\"\n",
    "        print(output)\n",
    "            \n",
    "histogram([3,2,6,9])"
   ]
  },
  {
   "cell_type": "raw",
   "id": "de246d39",
   "metadata": {},
   "source": [
    "27. Write a Python program that concatenates all elements in a list into a string and returns it."
   ]
  },
  {
   "cell_type": "code",
   "execution_count": null,
   "id": "014381de",
   "metadata": {},
   "outputs": [],
   "source": [
    "def concate(l1):\n",
    "    output=\"\"\n",
    "    for i in l1:\n",
    "        output+=str(i)\n",
    "    return output\n",
    "print(concate([2,3,4,5]))\n",
    "print(concate(['a','b','v','b']))"
   ]
  },
  {
   "cell_type": "raw",
   "id": "26551cc3",
   "metadata": {},
   "source": [
    "28. Write a Python program to print all even numbers from a given list of numbers in the same order and stop printing any after 237 in the sequence.\n",
    "Sample numbers list :\n",
    "\n",
    "numbers = [    \n",
    "    386, 462, 47, 418, 907, 344, 236, 375, 823, 566, 597, 978, 328, 615, 953, 345, \n",
    "    399, 162, 758, 219, 918, 237, 412, 566, 826, 248, 866, 950, 626, 949, 687, 217, \n",
    "    815, 67, 104, 58, 512, 24, 892, 894, 767, 553, 81, 379, 843, 831, 445, 742, 717, \n",
    "    958,743, 527\n",
    "    ]"
   ]
  },
  {
   "cell_type": "code",
   "execution_count": null,
   "id": "4650a34a",
   "metadata": {},
   "outputs": [],
   "source": [
    "numbers = [    \n",
    "    386, 462, 47, 418, 907, 344, 236, 375, 823, 566, 597, 978, 328, 615, 953, 345, \n",
    "    399, 162, 758, 219, 918, 237, 412, 566, 826, 248, 866, 950, 626, 949, 687, 217, \n",
    "    815, 67, 104, 58, 512, 24, 892, 894, 767, 553, 81, 379, 843, 831, 445, 742, 717, \n",
    "    958,743, 527\n",
    "    ]\n",
    "\n",
    "def even(numbers):\n",
    "    \n",
    "    for i in numbers:\n",
    "        if i ==237:\n",
    "            print(i)\n",
    "            break;\n",
    "        else:\n",
    "            print( i ,\"= is even number\")\n",
    "        \n",
    "print(even(numbers))"
   ]
  },
  {
   "cell_type": "raw",
   "id": "49c115b6",
   "metadata": {},
   "source": [
    "29. Write a Python program that prints out all colors from color_list_1 that are not present in color_list_2.\n",
    "Test Data :\n",
    "color_list_1 = set([\"White\", \"Black\", \"Red\"])\n",
    "color_list_2 = set([\"Red\", \"Green\"])\n",
    "Expected Output :\n",
    "{'Black', 'White'}"
   ]
  },
  {
   "cell_type": "code",
   "execution_count": null,
   "id": "564d074a",
   "metadata": {},
   "outputs": [],
   "source": [
    "color_list_1 = set([\"White\", \"Black\", \"Red\"])\n",
    "color_list_2 = set([\"Red\", \"Green\"])\n",
    "color_list_1.difference(color_list_2)"
   ]
  },
  {
   "cell_type": "raw",
   "id": "f3d450e7",
   "metadata": {},
   "source": [
    "30. Write a Python program that will accept the base and height of a triangle and compute its area."
   ]
  },
  {
   "cell_type": "code",
   "execution_count": null,
   "id": "9f8b37e2",
   "metadata": {},
   "outputs": [],
   "source": [
    "def triangle(base,height):\n",
    "    return base*height/2\n",
    "triangle(2,5)"
   ]
  },
  {
   "cell_type": "raw",
   "id": "ba00c726",
   "metadata": {},
   "source": [
    "31. Write a Python program that computes the greatest common divisor (GCD) of two positive integers."
   ]
  },
  {
   "cell_type": "code",
   "execution_count": null,
   "id": "851b63ca",
   "metadata": {},
   "outputs": [],
   "source": [
    "def gcd(x,y):\n",
    "    gcd=1\n",
    "    if x%y==0:\n",
    "        return y\n",
    "    for k in range(int(y/2),0,-1):\n",
    "        \n",
    "        if x%k==0 and y%k==0:\n",
    "        \n",
    "            gcd=k\n",
    "            break\n",
    "    return gcd\n",
    "print(gcd(336,360))"
   ]
  },
  {
   "cell_type": "raw",
   "id": "18a3ef32",
   "metadata": {},
   "source": [
    "32. Write a Python program to find the least common multiple (LCM) of two positive integers"
   ]
  },
  {
   "cell_type": "code",
   "execution_count": null,
   "id": "a89308a0",
   "metadata": {},
   "outputs": [],
   "source": [
    "def lcm(x,y):\n",
    "    z=1\n",
    "    if x<y:\n",
    "        z=y\n",
    "    else:\n",
    "        z=x\n",
    "    while(True):\n",
    "        if z%x==0 and z%y==0:\n",
    "            return z\n",
    "            break\n",
    "        z+=1\n",
    "lcm(4,6)  \n",
    "lcm(15,17)\n",
    "        "
   ]
  },
  {
   "cell_type": "raw",
   "id": "0999bd8a",
   "metadata": {},
   "source": [
    "33. Write a Python program to sum three given integers. However, if two values are equal, the sum will be zero."
   ]
  },
  {
   "cell_type": "code",
   "execution_count": null,
   "id": "d1895d79",
   "metadata": {},
   "outputs": [],
   "source": [
    "def summation(x,y,z):\n",
    "    if x!=y and y!=z and z!=x:\n",
    "        return x+y+z\n",
    "    else:\n",
    "        return 0\n",
    "print(summation(2,3,4))\n",
    "print(summation(2,2,4))\n",
    "print(summation(2,3,3))\n",
    "print(summation(4,3,4))\n",
    "print(summation(2,2,2))\n",
    "\n"
   ]
  },
  {
   "cell_type": "raw",
   "id": "b73dca73",
   "metadata": {},
   "source": [
    "34. Write a Python program to sum two given integers. However, if the sum is between 15 and 20 it will return 20."
   ]
  },
  {
   "cell_type": "code",
   "execution_count": null,
   "id": "a07899b3",
   "metadata": {},
   "outputs": [],
   "source": [
    "def summation(a,b):\n",
    "    z=a+b\n",
    "    if 15<=z<=20:\n",
    "        return 20\n",
    "    return z\n",
    "print(summation(1,2))\n",
    "print(summation(14,1))\n",
    "print(summation(14,4))"
   ]
  },
  {
   "cell_type": "raw",
   "id": "d7b95010",
   "metadata": {},
   "source": [
    "35. Write a Python program that returns true if the two given integer values are equal or their sum or difference is 5."
   ]
  },
  {
   "cell_type": "code",
   "execution_count": null,
   "id": "2600617f",
   "metadata": {},
   "outputs": [],
   "source": [
    "def evaluate(a,b):\n",
    "    z=a+b\n",
    "    y=a-b\n",
    "    if a==b or z==5 or abs(y)==5:\n",
    "        return True\n",
    "    return z\n",
    "print(evaluate(4,1))\n",
    "print(evaluate(6,1))\n",
    "print(evaluate(1,1))\n",
    "print(evaluate(3,1))"
   ]
  },
  {
   "cell_type": "raw",
   "id": "88d4ccf9",
   "metadata": {},
   "source": [
    "36. Write a Python program to add two objects if both objects are integers."
   ]
  },
  {
   "cell_type": "code",
   "execution_count": null,
   "id": "e37c180b",
   "metadata": {},
   "outputs": [],
   "source": [
    "def add_numbers(a,b):\n",
    "    if not (isinstance(a,int)and isinstance(b,int)):\n",
    "        return \"Numbers should be integer\"\n",
    "    return a+b\n",
    "print(add_numbers(10,10))\n",
    "print(add_numbers(10,10.5))\n",
    "print(add_numbers('5', 6))\n",
    "print(add_numbers('5', '6'))"
   ]
  },
  {
   "cell_type": "raw",
   "id": "884b4d2a",
   "metadata": {},
   "source": [
    "37. Write a Python program that displays your name, age, and address on three different lines."
   ]
  },
  {
   "cell_type": "code",
   "execution_count": null,
   "id": "bdf4e79c",
   "metadata": {},
   "outputs": [],
   "source": [
    "def data(name,age,add):\n",
    "    print(name,\"\\n\",age,\"\\n\",add)\n",
    "data(\"priya\",24,\"kalamboli\")"
   ]
  },
  {
   "cell_type": "code",
   "execution_count": null,
   "id": "430f9d76",
   "metadata": {},
   "outputs": [],
   "source": [
    "def Personal_details():\n",
    "    name=\"priya\"\n",
    "    age=24\n",
    "    add=\"kalamboli\"\n",
    "    print(\"name={}\\nage={}\\nadd={}\".format(name,age,add))\n",
    "Personal_details()"
   ]
  },
  {
   "cell_type": "raw",
   "id": "bcb9554f",
   "metadata": {},
   "source": [
    "38. Write a Python program to solve (x + y) * (x + y).\n",
    "Test Data : x = 4, y = 3\n",
    "Expected Output : (4 + 3) ^ 2) = 49"
   ]
  },
  {
   "cell_type": "code",
   "execution_count": null,
   "id": "f8273dac",
   "metadata": {},
   "outputs": [],
   "source": [
    "a,b=4,3\n",
    "result=(a+b)*(a+b)\n",
    "print(\"({} + {}) ^ 2) = {}\".format(a, b, result))"
   ]
  },
  {
   "cell_type": "raw",
   "id": "49a5dd99",
   "metadata": {},
   "source": [
    "39. Write a Python program to compute the future value of a specified principal amount, rate of interest, and number of years.\n",
    "Test Data : amt = 10000, int = 3.5, years = 7\n",
    "Expected Output : 12722.79"
   ]
  },
  {
   "cell_type": "code",
   "execution_count": null,
   "id": "edba1032",
   "metadata": {},
   "outputs": [],
   "source": [
    "amt = 10000\n",
    "int = 3.5\n",
    "years = 7\n",
    "future_value = amt*((1+(0.01*int)) ** years)\n",
    "print(round(future_value,2))"
   ]
  },
  {
   "cell_type": "raw",
   "id": "aecc1500",
   "metadata": {},
   "source": [
    "40. Write a Python program to calculate the distance between the points (x1, y1) and (x2, y2).\n",
    "Click me to see the sample solution"
   ]
  },
  {
   "cell_type": "code",
   "execution_count": null,
   "id": "12852902",
   "metadata": {},
   "outputs": [],
   "source": [
    "import math\n",
    "p1=[4,0]\n",
    "p2=[6,6]\n",
    "distance=math.sqrt(((p2[0]-p1[0])**2)+((p2[1]-p1[1])**2))\n",
    "print(distance)"
   ]
  },
  {
   "cell_type": "raw",
   "id": "5f0e07ba",
   "metadata": {},
   "source": [
    "41. Write a Python program to check whether a file exists."
   ]
  },
  {
   "cell_type": "code",
   "execution_count": null,
   "id": "1cbd4cb2",
   "metadata": {},
   "outputs": [],
   "source": [
    "import os.path\n",
    "print(os.path.isfile('Untitled.ipynb'))"
   ]
  },
  {
   "cell_type": "raw",
   "id": "84080886",
   "metadata": {},
   "source": [
    "42. Write a Python program to determine if a Python shell is executing in 32bit or 64bit mode on OS."
   ]
  },
  {
   "cell_type": "raw",
   "id": "87969d7e",
   "metadata": {},
   "source": [
    "43. Write a Python program to get OS name, platform and release information."
   ]
  },
  {
   "cell_type": "raw",
   "id": "0390f43f",
   "metadata": {},
   "source": [
    "44. Write a Python program to locate Python site packages"
   ]
  },
  {
   "cell_type": "raw",
   "id": "7b6180c2",
   "metadata": {},
   "source": [
    "45. Write a Python program that calls an external command."
   ]
  },
  {
   "cell_type": "raw",
   "id": "085023d4",
   "metadata": {},
   "source": [
    "46. Write a Python program to retrieve the path and name of the file currently being executed."
   ]
  },
  {
   "cell_type": "raw",
   "id": "4a9f6b35",
   "metadata": {},
   "source": [
    "47. Write a Python program to find out the number of CPUs used"
   ]
  },
  {
   "cell_type": "code",
   "execution_count": null,
   "id": "2085f823",
   "metadata": {},
   "outputs": [],
   "source": [
    "import multiprocessing\n",
    "print(multiprocessing.cpu_count())"
   ]
  },
  {
   "cell_type": "raw",
   "id": "3367d673",
   "metadata": {},
   "source": [
    "48. Write a Python program to parse a string to float or integer."
   ]
  },
  {
   "cell_type": "code",
   "execution_count": null,
   "id": "c44b38ab",
   "metadata": {},
   "outputs": [],
   "source": [
    "n = \"246.2458\"\n",
    "b=float(n)\n",
    "print(b)"
   ]
  },
  {
   "cell_type": "raw",
   "id": "69c3fa1e",
   "metadata": {},
   "source": [
    "49. Write a Python program to list all files in a directory"
   ]
  },
  {
   "cell_type": "code",
   "execution_count": null,
   "id": "8168ed74",
   "metadata": {},
   "outputs": [],
   "source": [
    "from os import listdir\n",
    "from os.path import isfile,join\n",
    "files_list=[f for f in listdir('/Desktop/')if isfile(join('/Desktop/',f))]\n",
    "print(files_list)"
   ]
  },
  {
   "cell_type": "raw",
   "id": "fcdfcfbd",
   "metadata": {},
   "source": [
    "50. Write a Python program to print without a newline or space."
   ]
  },
  {
   "cell_type": "code",
   "execution_count": null,
   "id": "09f17938",
   "metadata": {},
   "outputs": [],
   "source": [
    "for n in range(0,10):\n",
    "    print(\"*\",end=\"\")\n",
    "print(\"\\n\")\n"
   ]
  },
  {
   "cell_type": "raw",
   "id": "e6b99de8",
   "metadata": {},
   "source": [
    "51. Write a Python program to determine the profiling of Python programs.\n",
    "Note: A profile is a set of statistics that describes how often and for how long various parts of the program executed. These statistics can be formatted into reports via the pstats module."
   ]
  },
  {
   "cell_type": "code",
   "execution_count": null,
   "id": "cfb60008",
   "metadata": {},
   "outputs": [],
   "source": [
    "import cProfile\n",
    "def sum():\n",
    "    print(1+2)\n",
    "cProfile.run(\"sum()\")"
   ]
  },
  {
   "cell_type": "raw",
   "id": "f71bb07c",
   "metadata": {},
   "source": [
    "52. Write a Python program to print to STDERR."
   ]
  },
  {
   "cell_type": "raw",
   "id": "34118301",
   "metadata": {},
   "source": [
    "53. Write a Python program to access environment variables."
   ]
  },
  {
   "cell_type": "raw",
   "id": "1bfcafeb",
   "metadata": {},
   "source": [
    "54. Write a Python program to get the current username."
   ]
  },
  {
   "cell_type": "code",
   "execution_count": null,
   "id": "bcb9363c",
   "metadata": {},
   "outputs": [],
   "source": [
    "import getpass\n",
    "print(getpass.getuser())"
   ]
  },
  {
   "cell_type": "raw",
   "id": "ca6172da",
   "metadata": {},
   "source": [
    "55. Write a Python program to find local IP addresses using Python's stdlib"
   ]
  },
  {
   "cell_type": "code",
   "execution_count": null,
   "id": "11396af3",
   "metadata": {},
   "outputs": [],
   "source": [
    "import socket\n",
    "print([l for l in ([ip for ip in socket.gethostbyname_ex(socket.gethostname())[2] if not ip.startswith(\"127.\")][:1], [[(s.connect(('8.8.8.8', 53)), s.getsockname()[0], s.close()) for s in [socket.socket(socket.AF_INET, socket.SOCK_DGRAM)]][0][1]]) if l][0][0])"
   ]
  },
  {
   "cell_type": "raw",
   "id": "8e28b7b6",
   "metadata": {},
   "source": [
    "56. Write a Python program to get the height and width of the console window.\n",
    "Click me to see the sample solution"
   ]
  },
  {
   "cell_type": "raw",
   "id": "0ad427e6",
   "metadata": {},
   "source": [
    "57. Write a Python program to get the execution time of a Python method."
   ]
  },
  {
   "cell_type": "code",
   "execution_count": null,
   "id": "e50df261",
   "metadata": {},
   "outputs": [],
   "source": [
    "import time\n",
    "def sum_of_n_numbers(n):\n",
    "    s_time=time.time()\n",
    "    s=0\n",
    "    for i in range(1,n+1):\n",
    "        s=s+i\n",
    "    st_time=time.time()\n",
    "    t_time=st_time-s_time\n",
    "    return t_time\n",
    "sum_of_n_numbers(5)"
   ]
  },
  {
   "cell_type": "code",
   "execution_count": null,
   "id": "29914bbc",
   "metadata": {},
   "outputs": [],
   "source": [
    "def sum_of_n_numbers(n):\n",
    "    start_time = time.time()\n",
    "    s = 0\n",
    "    for i in range(1,n+1):\n",
    "        s = s + i\n",
    "    end_time = time.time()\n",
    "    return s,end_time-start_time\n",
    "\n",
    "n = 5\n",
    "print(\"\\nTime to sum of 1 to \",n,\" and required time to calculate is :\",sum_of_n_numbers(10))"
   ]
  },
  {
   "cell_type": "raw",
   "id": "b28caf64",
   "metadata": {},
   "source": [
    "58. Write a Python program to sum the first n positive integers."
   ]
  },
  {
   "cell_type": "code",
   "execution_count": null,
   "id": "d43e362b",
   "metadata": {},
   "outputs": [],
   "source": [
    "num=float(input(\"Enter number = \"))\n",
    "sum_num=(num*(num+1))/2\n",
    "print(sum_num)"
   ]
  },
  {
   "cell_type": "raw",
   "id": "5755fac3",
   "metadata": {},
   "source": [
    "59. Write a Python program to convert height (in feet and inches) to centimeters."
   ]
  },
  {
   "cell_type": "code",
   "execution_count": null,
   "id": "5882be90",
   "metadata": {},
   "outputs": [],
   "source": [
    "print(\"Enter your height :\")\n",
    "h_ft = int(input(\"Feet: \"))\n",
    "h_inch = int(input(\"Inches: \"))\n",
    "\n",
    "h_inch += h_ft * 12\n",
    "h_cm = round(h_inch * 2.54, 1)\n",
    "print(\"Your height is : %d cm.\" % h_cm)"
   ]
  },
  {
   "cell_type": "raw",
   "id": "33e9f9e0",
   "metadata": {},
   "source": [
    "60. Write a Python program to calculate the hypotenuse of a right angled triangle."
   ]
  },
  {
   "cell_type": "code",
   "execution_count": null,
   "id": "1f8f6969",
   "metadata": {},
   "outputs": [],
   "source": [
    "from math import sqrt\n",
    "print(\"Input lengths of shorter triangle sides:\")\n",
    "a=float(input(\"a : \"))\n",
    "b=float(input(\"b : \"))\n",
    "c=sqrt(a**2+b**2)\n",
    "print(c)"
   ]
  },
  {
   "cell_type": "raw",
   "id": "67b7d78a",
   "metadata": {},
   "source": [
    "61. Write a Python program to convert the distance (in feet) to inches, yards, and miles"
   ]
  },
  {
   "cell_type": "code",
   "execution_count": null,
   "id": "2fe45e42",
   "metadata": {},
   "outputs": [],
   "source": [
    "d_ft=float(input(\"INPUT distance in feet : \"))\n",
    "d_inches=d_ft*12\n",
    "d_yards=d_ft/3.0\n",
    "d_miles=d_ft/5280.0\n",
    "print(\" distance in inches : %i\" %d_inches)\n",
    "print(\"distance in yards : %.2f\"%d_yards)\n",
    "print(\"distance in miles :  %.2f\" % d_miles)"
   ]
  },
  {
   "cell_type": "raw",
   "id": "ccf68ca3",
   "metadata": {},
   "source": [
    "62. Write a Python program to convert all units of time into seconds"
   ]
  },
  {
   "cell_type": "code",
   "execution_count": null,
   "id": "8272d845",
   "metadata": {},
   "outputs": [],
   "source": [
    "days = int(input(\"Input days: \")) * 3600 * 24\n",
    "hours = int(input(\"Input hours: \")) * 3600\n",
    "minutes = int(input(\"Input minutes: \")) * 60\n",
    "seconds = int(input(\"Input seconds: \"))\n",
    "\n",
    "time = days + hours + minutes + seconds\n",
    "\n",
    "print(\"The  amounts of seconds\", time)"
   ]
  },
  {
   "cell_type": "raw",
   "id": "9e851105",
   "metadata": {},
   "source": [
    "63. Write a Python program to get an absolute file path"
   ]
  },
  {
   "cell_type": "code",
   "execution_count": null,
   "id": "8f6bdced",
   "metadata": {},
   "outputs": [],
   "source": [
    "def abs_filepath(f_name):\n",
    "    import os\n",
    "    return os.path.abspath(f_name)\n",
    "print(abs_filepath('Untitled.ipynb'))"
   ]
  },
  {
   "cell_type": "raw",
   "id": "fac82830",
   "metadata": {},
   "source": [
    "64. Write a Python program that retrieves the date and time of file creation and modification"
   ]
  },
  {
   "cell_type": "code",
   "execution_count": null,
   "id": "0895fbe4",
   "metadata": {},
   "outputs": [],
   "source": [
    "import os.path,time\n",
    "print(\"last modified %s\"%time.ctime(os.path.getmtime('Untitled.ipynb')))\n",
    "print(\"created %s\"%time.ctime(os.path.getctime(\"Untitled.ipynb\")))"
   ]
  },
  {
   "cell_type": "raw",
   "id": "b30d3832",
   "metadata": {},
   "source": [
    "65. Write a Python program that converts seconds into days, hours, minutes, and seconds."
   ]
  },
  {
   "cell_type": "code",
   "execution_count": null,
   "id": "8b00e7c4",
   "metadata": {},
   "outputs": [],
   "source": [
    "time = float(input(\"Input time in seconds: \"))\n",
    "day = time // (24 * 3600)\n",
    "time = time % (24 * 3600)\n",
    "hour = time // 3600\n",
    "time %= 3600\n",
    "minutes = time // 60\n",
    "time %= 60\n",
    "seconds = time\n",
    "print(\"d:h:m:s-> %d:%d:%d:%d\" % (day, hour, minutes, seconds))"
   ]
  },
  {
   "cell_type": "raw",
   "id": "a8899e1c",
   "metadata": {},
   "source": [
    "|66. Write a Python program to calculate the body mass index."
   ]
  },
  {
   "cell_type": "code",
   "execution_count": null,
   "id": "84f75552",
   "metadata": {},
   "outputs": [],
   "source": [
    "height = float(input(\"Input your height in Feet: \"))\n",
    "weight = float(input(\"Input your weight in Kilogram: \"))\n",
    "print(\"Your body mass index is: \", round(weight / (height * height), 2))"
   ]
  },
  {
   "cell_type": "raw",
   "id": "78fd41ca",
   "metadata": {},
   "source": [
    "67. Write a Python program to convert pressure in kilopascals to pounds per square inch, a millimeter of mercury (mmHg) and atmosphere pressure."
   ]
  },
  {
   "cell_type": "code",
   "execution_count": null,
   "id": "fd550a01",
   "metadata": {},
   "outputs": [],
   "source": [
    "kpa = float(input(\"Input pressure in in kilopascals> \"))\n",
    "psi = kpa / 6.89475729\n",
    "mmhg = kpa * 760 / 101.325\n",
    "atm = kpa / 101.325\n",
    "print(\"The pressure in pounds per square inch: %.2f psi\"  % (psi))\n",
    "print(\"The pressure in millimeter of mercury: %.2f mmHg\" % (mmhg))\n",
    "print(\"Atmosphere pressure: %.2f atm.\" % (atm))\n"
   ]
  },
  {
   "cell_type": "raw",
   "id": "188e6c23",
   "metadata": {},
   "source": [
    "68. Write a Python program to calculate sum of digits of a number."
   ]
  },
  {
   "cell_type": "code",
   "execution_count": null,
   "id": "653d6e4d",
   "metadata": {},
   "outputs": [],
   "source": [
    "num = int(input(\"Input a four digit numbers: \"))\n",
    "x  = num //1000\n",
    "x1 = (num - x*1000)//100\n",
    "x2 = (num - x*1000 - x1*100)//10\n",
    "x3 = num - x*1000 - x1*100 - x2*10\n",
    "print(x,\",\",x1,\",\",x2,\",\",x3)\n",
    "print(\"The sum of digits in the number is\", x+x1+x2+x3)"
   ]
  },
  {
   "cell_type": "code",
   "execution_count": null,
   "id": "d979de79",
   "metadata": {},
   "outputs": [],
   "source": [
    "(5245-(5*1000))//100\n"
   ]
  },
  {
   "cell_type": "raw",
   "id": "38c54693",
   "metadata": {},
   "source": [
    "69. Write a Python program to sort three integers without using conditional statements and loops"
   ]
  },
  {
   "cell_type": "code",
   "execution_count": null,
   "id": "20fb6c06",
   "metadata": {},
   "outputs": [],
   "source": [
    "x=int(input(\"Enter 3 digit number = \"))\n",
    "y=int(input(\"Enter 2 nd digit = \"))\n",
    "z=int(input(\"enter 3rd digit = \"))\n",
    "a1 = min(x, y, z)\n",
    "a3 = max(x, y, z)\n",
    "a2 = (x + y + z) - a1 - a3\n",
    "print(\"Numbers in sorted order: \", a1, a2, a3)"
   ]
  },
  {
   "cell_type": "raw",
   "id": "d0cccf95",
   "metadata": {},
   "source": [
    "70. Write a Python program to sort files by date."
   ]
  },
  {
   "cell_type": "code",
   "execution_count": null,
   "id": "58651058",
   "metadata": {},
   "outputs": [],
   "source": [
    "import glob\n",
    "import os\n",
    "files = glob.glob(\"*.ipynb\")\n",
    "files.sort(key=os.path.getmtime)\n",
    "print(\"\\n\".join(files))"
   ]
  },
  {
   "cell_type": "raw",
   "id": "e22e5f3e",
   "metadata": {},
   "source": [
    "71. Write a Python program to get a directory listing, sorted by creation date"
   ]
  },
  {
   "cell_type": "raw",
   "id": "8fb02758",
   "metadata": {},
   "source": [
    "72. Write a Python program to get the details of the math module."
   ]
  },
  {
   "cell_type": "code",
   "execution_count": null,
   "id": "193c6da6",
   "metadata": {},
   "outputs": [],
   "source": [
    "import math\n",
    "help(math)"
   ]
  },
  {
   "cell_type": "code",
   "execution_count": null,
   "id": "01b027b7",
   "metadata": {},
   "outputs": [],
   "source": [
    "dr=dir(math)\n",
    "print(dr)"
   ]
  },
  {
   "cell_type": "raw",
   "id": "d7645ea6",
   "metadata": {},
   "source": [
    "73. Write a Python program to calculate the midpoints of a line"
   ]
  },
  {
   "cell_type": "code",
   "execution_count": null,
   "id": "ec54e7a9",
   "metadata": {},
   "outputs": [],
   "source": [
    "print(\"\\nCalculate midpoint of line\")\n",
    "x1=float(input(\"x1 value : \"))\n",
    "x2=float(input(\"x2 value : \"))\n",
    "\n",
    "y1=float(input(\"y1 value : \"))\n",
    "y2= float(input(\"y2 value : \"))\n",
    "x_m_point=(x1+x2)/2\n",
    "y_m_point=(y1+y2)/2\n",
    "print()\n",
    "print(\"midpoint of x\",x_m_point)\n",
    "print(\"midpoint of y\",y_m_point)"
   ]
  },
  {
   "cell_type": "raw",
   "id": "08c5b197",
   "metadata": {},
   "source": [
    "74. Write a Python program to hash a word."
   ]
  },
  {
   "cell_type": "code",
   "execution_count": null,
   "id": "0e02fad1",
   "metadata": {},
   "outputs": [],
   "source": [
    "soundex=[0,1,2,3,0,1,2,0,0,2,2,4,5,5,0,1,2,6,2,3,0,1,0,2,0,2]\n",
    "word=input(\"Enter word = \")\n",
    "word=word.upper()\n",
    "coded=word[0]\n",
    "for a in word[1:len(word)]:\n",
    "    i=70-ord(a)\n",
    "    coded=coded+str(soundex[i])\n",
    "print()\n",
    "print(coded)"
   ]
  },
  {
   "cell_type": "code",
   "execution_count": null,
   "id": "d1bd94b0",
   "metadata": {},
   "outputs": [],
   "source": [
    "print(\"solution 2\")\n",
    "word=\"priyanka\"\n",
    "print(\"hash \",hash(word))"
   ]
  },
  {
   "cell_type": "raw",
   "id": "80fde844",
   "metadata": {},
   "source": [
    "75. Write a Python program to get the copyright information and write Copyright information in Python code"
   ]
  },
  {
   "cell_type": "code",
   "execution_count": null,
   "id": "a2c4a49f",
   "metadata": {},
   "outputs": [],
   "source": [
    "print(copyright)"
   ]
  },
  {
   "cell_type": "markdown",
   "id": "ccb1e4ab",
   "metadata": {},
   "source": [
    "###  76 Write a Python program to get the command-line arguments (name of the script, the number of arguments, arguments) passed to a script."
   ]
  },
  {
   "cell_type": "code",
   "execution_count": null,
   "id": "747b2eb6",
   "metadata": {},
   "outputs": [],
   "source": [
    "import sys\n",
    "print(\"path name of scipt = \",sys.argv[0])\n",
    "print(\"number of argumnets = \",len(sys.argv))\n",
    "print(\"argumnets list \",str(sys.argv))\n",
    "\n"
   ]
  },
  {
   "cell_type": "raw",
   "id": "2a90d771",
   "metadata": {},
   "source": [
    "77. Write a Python program to test whether the system is a big-endian platform or a little-endian platform"
   ]
  },
  {
   "cell_type": "raw",
   "id": "f4f45c0b",
   "metadata": {},
   "source": [
    "78. Write a Python program to find the available built-in modules."
   ]
  },
  {
   "cell_type": "code",
   "execution_count": null,
   "id": "0ed602fc",
   "metadata": {},
   "outputs": [],
   "source": [
    "import sys\n",
    "print(sys.builtin_module_names)"
   ]
  },
  {
   "cell_type": "raw",
   "id": "9a818f30",
   "metadata": {},
   "source": [
    "79. Write a Python program to get the size of an object in bytes"
   ]
  },
  {
   "cell_type": "code",
   "execution_count": null,
   "id": "3b648390",
   "metadata": {},
   "outputs": [],
   "source": [
    "import sys\n",
    "str1 = \"one\"\n",
    "str2 = \"four\"\n",
    "str3 = \"three\"\n",
    "x = 0\n",
    "y = 112\n",
    "z = 122.56\n",
    "print(sys.getsizeof(str1))\n"
   ]
  },
  {
   "cell_type": "code",
   "execution_count": null,
   "id": "1125a595",
   "metadata": {},
   "outputs": [],
   "source": [
    "help(sys)"
   ]
  },
  {
   "cell_type": "markdown",
   "id": "846e3cf5",
   "metadata": {},
   "source": [
    "### 80. Write a Python program to get the current value of the recursion limit."
   ]
  },
  {
   "cell_type": "raw",
   "id": "85a2398b",
   "metadata": {},
   "source": [
    "81. Write a Python program to concatenate N strings."
   ]
  },
  {
   "cell_type": "code",
   "execution_count": null,
   "id": "3da1a740",
   "metadata": {},
   "outputs": [],
   "source": [
    "a=\"priya\"\n",
    "b=\"gorakhnath\"\n",
    "c=\"suryawanshi\"\n",
    "print(a+\" \"+\" \"+b+\" \"+c)"
   ]
  },
  {
   "cell_type": "code",
   "execution_count": null,
   "id": "9a2f8b80",
   "metadata": {},
   "outputs": [],
   "source": [
    "list_of_colors = ['Red', 'White', 'Black']  \n",
    "data='-'.join(list_of_colors)\n",
    "print(data)"
   ]
  },
  {
   "cell_type": "raw",
   "id": "b5b4e89a",
   "metadata": {},
   "source": [
    "82. Write a Python program to calculate the sum of all items of a container (tuple, list, set, dictionary)."
   ]
  },
  {
   "cell_type": "code",
   "execution_count": null,
   "id": "cf4fa9b9",
   "metadata": {},
   "outputs": [],
   "source": [
    "a=[1,2,3,4,5]\n",
    "b=(1,2,3,4,5)\n",
    "c=set([1,2,3,4,5,5])\n",
    "print(sum(a))\n",
    "print(sum(b))\n",
    "print(sum(c))"
   ]
  },
  {
   "cell_type": "raw",
   "id": "b1987884",
   "metadata": {},
   "source": [
    "83. Write a Python program to test whether all numbers in a list are greater than a certain number."
   ]
  },
  {
   "cell_type": "code",
   "execution_count": null,
   "id": "c362483a",
   "metadata": {},
   "outputs": [],
   "source": [
    "def test(num,n):\n",
    "    return print(all(x > 1 for x in num))\n",
    "num=[4,2,5,7,8,9]\n",
    "n=4\n",
    "test(num,n)\n"
   ]
  },
  {
   "cell_type": "raw",
   "id": "6a9ee8b1",
   "metadata": {},
   "source": [
    "\n",
    "84. Write a Python program to count the number of occurrences of a specific character in a string"
   ]
  },
  {
   "cell_type": "code",
   "execution_count": null,
   "id": "eae5268e",
   "metadata": {},
   "outputs": [],
   "source": [
    "st=\"tara ra ra \"\n",
    "st.count('a')"
   ]
  },
  {
   "cell_type": "code",
   "execution_count": null,
   "id": "c606d16b",
   "metadata": {},
   "outputs": [],
   "source": [
    "count=0\n",
    "for i in st:\n",
    "    if i=='a':\n",
    "        count=count+1\n",
    "print(count)"
   ]
  },
  {
   "cell_type": "raw",
   "id": "aa648f64",
   "metadata": {},
   "source": [
    "85. Write a Python program to check whether a file path is a file or a directory."
   ]
  },
  {
   "cell_type": "code",
   "execution_count": null,
   "id": "17013519",
   "metadata": {},
   "outputs": [],
   "source": [
    "import os\n",
    "path=\"150_que_python_test_1.ipynb\"\n",
    "if os.path.isdir(path):\n",
    "    print(\"its directory\")\n",
    "elif os.path.isfile(path):\n",
    "    print(\"its file\")\n",
    "else:\n",
    "    print(\"path not avilable\")"
   ]
  },
  {
   "cell_type": "raw",
   "id": "b24bbdb3",
   "metadata": {},
   "source": [
    "86. Write a Python program to get the ASCII value of a character."
   ]
  },
  {
   "cell_type": "code",
   "execution_count": null,
   "id": "16cf93ee",
   "metadata": {},
   "outputs": [],
   "source": [
    "a='c'\n",
    "print(ord(a))"
   ]
  },
  {
   "cell_type": "raw",
   "id": "87c97abb",
   "metadata": {},
   "source": [
    "87. Write a Python program to get the size of a file."
   ]
  },
  {
   "cell_type": "code",
   "execution_count": null,
   "id": "ea270ba1",
   "metadata": {},
   "outputs": [],
   "source": [
    "import os \n",
    "print(os.path.getsize(\"150_que_python_test_1.ipynb\"))"
   ]
  },
  {
   "cell_type": "raw",
   "id": "5ed08da4",
   "metadata": {},
   "source": [
    "\n",
    "88. Given variables x=30 and y=20, write a Python program to print \"30+20=50\"."
   ]
  },
  {
   "cell_type": "code",
   "execution_count": null,
   "id": "c4b9a5b0",
   "metadata": {},
   "outputs": [],
   "source": [
    "a=30\n",
    "b=20\n",
    "c=a+b\n",
    "print(\"{}+{}={}\".format(a,b,c))"
   ]
  },
  {
   "cell_type": "code",
   "execution_count": null,
   "id": "64cd590d",
   "metadata": {},
   "outputs": [],
   "source": [
    "print(\"\\n%d+%d=%d\"%(a,b,c))"
   ]
  },
  {
   "cell_type": "raw",
   "id": "af3881b9",
   "metadata": {},
   "source": [
    "89. Write a Python program to perform an action if a condition is true.\n",
    "Given a variable name, if the value is 1, display the string \"First day of a Month!\" and do nothing if the value is not equal."
   ]
  },
  {
   "cell_type": "code",
   "execution_count": null,
   "id": "510d9e1c",
   "metadata": {},
   "outputs": [],
   "source": [
    "n=1\n",
    "if n==1:\n",
    "    print(\"First day of month\")\n",
    "print()"
   ]
  },
  {
   "cell_type": "raw",
   "id": "c6dcc1d9",
   "metadata": {},
   "source": [
    "90. Write a Python program to create a copy of its own source code."
   ]
  },
  {
   "cell_type": "code",
   "execution_count": null,
   "id": "ff3c3fcf",
   "metadata": {},
   "outputs": [],
   "source": [
    "def file_copy(src,dest):\n",
    "      with open(src) as f ,open(dest,'w') as d:\n",
    "            d.write(f.read())\n",
    "            \n",
    "file_copy(\"src1.txt\",\"data.txt\")"
   ]
  },
  {
   "cell_type": "raw",
   "id": "78df1177",
   "metadata": {},
   "source": [
    "91. Write a Python program to swap two variables"
   ]
  },
  {
   "cell_type": "code",
   "execution_count": null,
   "id": "979ab86b",
   "metadata": {},
   "outputs": [],
   "source": [
    "a=2\n",
    "b=5\n",
    "print(a,\",\",b)\n",
    "b,a=a,b\n",
    "print(a,\",\",b)"
   ]
  },
  {
   "cell_type": "raw",
   "id": "2146eff4",
   "metadata": {},
   "source": [
    "92. Write a Python program to define a string containing special characters in various forms."
   ]
  },
  {
   "cell_type": "code",
   "execution_count": null,
   "id": "2f2e21b3",
   "metadata": {},
   "outputs": [],
   "source": [
    "print(\"\\n ! @#$%^&*()\")\n",
    "print('\\#{'\"'\"'}${\"}@/')\n",
    "print(r'\\npriya')\n",
    "print(\"\\\"priya\\\" \")\n",
    "print(r\"\\\"priya\\\" \")"
   ]
  },
  {
   "cell_type": "raw",
   "id": "3ec77cb2",
   "metadata": {},
   "source": [
    "93. Write a Python program to get the Identity, Type, and Value of an object.\n",
    "Click me to see the sample solution"
   ]
  },
  {
   "cell_type": "code",
   "execution_count": null,
   "id": "6117d450",
   "metadata": {},
   "outputs": [],
   "source": [
    "x=3"
   ]
  },
  {
   "cell_type": "code",
   "execution_count": null,
   "id": "521729a5",
   "metadata": {},
   "outputs": [],
   "source": [
    "print(\"type=\",type(x))\n",
    "print(\"ID = \",id(x))\n",
    "print(\"value=\",x)"
   ]
  },
  {
   "cell_type": "raw",
   "id": "108e76eb",
   "metadata": {},
   "source": [
    "94. Write a Python program to convert the bytes in a given string to a list of integers."
   ]
  },
  {
   "cell_type": "code",
   "execution_count": null,
   "id": "5895a2a1",
   "metadata": {},
   "outputs": [],
   "source": [
    "x=b'cbd'\n",
    "print(\"convert string into list of bytes\")\n",
    "print(list(x))"
   ]
  },
  {
   "cell_type": "raw",
   "id": "a8bae61f",
   "metadata": {},
   "source": [
    "95. Write a Python program to check whether a string is numeric."
   ]
  },
  {
   "cell_type": "code",
   "execution_count": null,
   "id": "6cd8cf66",
   "metadata": {},
   "outputs": [],
   "source": [
    "a='123'\n",
    "b='priya'\n",
    "print(a.isdigit())\n",
    "print(b.isdigit())"
   ]
  },
  {
   "cell_type": "raw",
   "id": "b6197da7",
   "metadata": {},
   "source": [
    "96. Write a Python program to print the current call stack."
   ]
  },
  {
   "cell_type": "raw",
   "id": "5b2524e8",
   "metadata": {},
   "source": [
    "\n",
    "97. Write a Python program to list the special variables used in the language."
   ]
  },
  {
   "cell_type": "raw",
   "id": "71326a88",
   "metadata": {},
   "source": [
    "98. Write a Python program to get system time."
   ]
  },
  {
   "cell_type": "code",
   "execution_count": null,
   "id": "3cd89830",
   "metadata": {},
   "outputs": [],
   "source": [
    "import sys\n",
    "print(sys.version_info)"
   ]
  },
  {
   "cell_type": "code",
   "execution_count": null,
   "id": "789c717d",
   "metadata": {},
   "outputs": [],
   "source": [
    "import datetime\n",
    "a=datetime.datetime.now()\n",
    "print(a)"
   ]
  },
  {
   "cell_type": "code",
   "execution_count": null,
   "id": "cb839f20",
   "metadata": {},
   "outputs": [],
   "source": [
    "import time\n",
    "print(time.ctime())"
   ]
  },
  {
   "cell_type": "raw",
   "id": "bfac25e7",
   "metadata": {},
   "source": [
    "99. Write a Python program to clear the screen or terminal."
   ]
  },
  {
   "cell_type": "code",
   "execution_count": null,
   "id": "c2366d8d",
   "metadata": {},
   "outputs": [],
   "source": [
    "import os\n",
    "import time\n",
    "os.system(\"ls\")\n",
    "time.sleep(2)\n",
    "os.system(\"clear\")"
   ]
  },
  {
   "cell_type": "raw",
   "id": "3c12ced1",
   "metadata": {},
   "source": [
    " 101. Write a Python program to access and print a URL's content to the console."
   ]
  },
  {
   "cell_type": "code",
   "execution_count": null,
   "id": "1fbf4b84",
   "metadata": {},
   "outputs": [],
   "source": [
    "from  http.client import HTTPConnection"
   ]
  },
  {
   "cell_type": "code",
   "execution_count": null,
   "id": "bbe0a716",
   "metadata": {},
   "outputs": [],
   "source": [
    "conn=HTTPConnection(\"google.com\")\n",
    "conn.request(\"GET\",\"/\")\n",
    "result=conn.getresponse()\n",
    "print(result.read())"
   ]
  },
  {
   "cell_type": "raw",
   "id": "718a1d4e",
   "metadata": {},
   "source": [
    "102. Write a Python program to get system command output."
   ]
  },
  {
   "cell_type": "raw",
   "id": "6e673b82",
   "metadata": {},
   "source": [
    "103. Write a Python program to extract the filename from a given path."
   ]
  },
  {
   "cell_type": "code",
   "execution_count": null,
   "id": "ca03b07a",
   "metadata": {},
   "outputs": [],
   "source": [
    "import os\n",
    "print(os.path.basename(\"Desktop/zero-to-hero-python/150_que_python_test_1.ipynb\"))"
   ]
  },
  {
   "cell_type": "raw",
   "id": "98bd0b7b",
   "metadata": {},
   "source": [
    "105. Write a Python program to get the users environment."
   ]
  },
  {
   "cell_type": "code",
   "execution_count": null,
   "id": "d9a17ba6",
   "metadata": {},
   "outputs": [],
   "source": [
    "import os\n",
    "print(os.environ)"
   ]
  },
  {
   "cell_type": "raw",
   "id": "954591b9",
   "metadata": {},
   "source": [
    "106. Write a Python program to divide a path by the extension separator"
   ]
  },
  {
   "cell_type": "code",
   "execution_count": null,
   "id": "7008cf11",
   "metadata": {},
   "outputs": [],
   "source": [
    "for path in [ 'test.txt', 'filename', '/user/system/test.txt', '/', '' ]:\n",
    "    print('{}'.format(path))"
   ]
  },
  {
   "cell_type": "raw",
   "id": "12887a1d",
   "metadata": {},
   "source": [
    "108. Write a Python program to find the path to a file or directory when you encounter a path name."
   ]
  },
  {
   "cell_type": "code",
   "execution_count": null,
   "id": "f0bb09e9",
   "metadata": {},
   "outputs": [],
   "source": [
    "print(os.path.dirname(\"Desktop/zero-to-hero-python/150_que_python_test_1.ipynb\"))\n",
    "for file in [  os.path.dirname(\"Desktop/zero-to-hero-python/150_que_python_test_1.ipynb\"), '/', './broken_link']:\n",
    "    print(file)\n",
    "    print(os.path.isabs(file))\n",
    "    print(os.path.isfile(file))"
   ]
  },
  {
   "cell_type": "raw",
   "id": "4329422c",
   "metadata": {},
   "source": [
    "109. Write a Python program to find the path to a file or directory when you encounter a path name.\n"
   ]
  },
  {
   "cell_type": "code",
   "execution_count": null,
   "id": "84f06495",
   "metadata": {},
   "outputs": [],
   "source": [
    "import os.path"
   ]
  },
  {
   "cell_type": "code",
   "execution_count": null,
   "id": "49cea8c0",
   "metadata": {},
   "outputs": [],
   "source": [
    "help(os.path)"
   ]
  },
  {
   "cell_type": "code",
   "execution_count": null,
   "id": "47861107",
   "metadata": {},
   "outputs": [],
   "source": [
    "print(os.path.basename(\"/Desktop/zero-to-hero-python/150_que_python_test_1.ipynb\"))\n",
    "print(os.path.dirname(\"/Desktop/zero-to-hero-python/150_que_python_test_1.ipynb\"))"
   ]
  },
  {
   "cell_type": "raw",
   "id": "afe8d781",
   "metadata": {},
   "source": [
    "110. Write a Python program to get numbers divisible by fifteen from a list using an anonymous function."
   ]
  },
  {
   "cell_type": "code",
   "execution_count": null,
   "id": "cd5f7fdd",
   "metadata": {},
   "outputs": [],
   "source": [
    "num_list = [45, 55, 60, 37, 100, 105, 220]\n",
    "divisable=list(filter(lambda x:(x%15==0),num_list))\n",
    "print(divisable)"
   ]
  },
  {
   "cell_type": "raw",
   "id": "f41f070e",
   "metadata": {},
   "source": [
    "112. Write a Python program to remove the first item from a specified list."
   ]
  },
  {
   "cell_type": "code",
   "execution_count": null,
   "id": "184eca86",
   "metadata": {},
   "outputs": [],
   "source": [
    "color = [\"Red\", \"Black\", \"Green\", \"White\", \"Orange\"]\n",
    "print(\"solution 1\")\n",
    "print(color[:1])\n",
    "print(\"*\"*15)\n"
   ]
  },
  {
   "cell_type": "code",
   "execution_count": null,
   "id": "6ab81426",
   "metadata": {},
   "outputs": [],
   "source": [
    "color = [\"Red\", \"Black\", \"Green\", \"White\", \"Orange\"]\n",
    "print(\"solution 1\")\n",
    "color.remove(\"Red\")\n",
    "print(color)\n",
    "print(\"*\"*15)"
   ]
  },
  {
   "cell_type": "code",
   "execution_count": null,
   "id": "3f5839e9",
   "metadata": {},
   "outputs": [],
   "source": [
    "color = [\"Red\", \"Black\", \"Green\", \"White\", \"Orange\"]\n",
    "print(\"solution 1\")\n",
    "del color[0]\n",
    "print(color)\n",
    "print(\"*\"*15)"
   ]
  },
  {
   "cell_type": "raw",
   "id": "acc27ffa",
   "metadata": {},
   "source": [
    "113. Write a Python program that inputs a number and generates an error message if it is not a number."
   ]
  },
  {
   "cell_type": "code",
   "execution_count": null,
   "id": "10c90c0f",
   "metadata": {},
   "outputs": [],
   "source": [
    "num=int(input(\"Enter number= \"))\n",
    "if type(num)==int:\n",
    "    print(\"its number\")\n",
    "else :\n",
    "    print(\"its not number\")"
   ]
  },
  {
   "cell_type": "code",
   "execution_count": null,
   "id": "cd273fdc",
   "metadata": {},
   "outputs": [],
   "source": [
    "num=input(\"enter number = \")\n",
    "if num.isnumeric()==True:\n",
    "    print(\"its number\")\n",
    "else:\n",
    "    print(\"its not number\")"
   ]
  },
  {
   "cell_type": "code",
   "execution_count": null,
   "id": "f2fd1283",
   "metadata": {},
   "outputs": [],
   "source": [
    "n=\"12\"\n",
    "print(n.isnumeric())"
   ]
  },
  {
   "cell_type": "code",
   "execution_count": null,
   "id": "771404d5",
   "metadata": {},
   "outputs": [],
   "source": [
    "while True:\n",
    "    try:\n",
    "        a=int(input(\"enter number = \"))\n",
    "    except valueError:\n",
    "        print(\"\\n this is not number \")\n",
    "        print()"
   ]
  },
  {
   "cell_type": "raw",
   "id": "2227df42",
   "metadata": {},
   "source": [
    "114. Write a Python program to filter positive numbers from a list."
   ]
  },
  {
   "cell_type": "code",
   "execution_count": null,
   "id": "80bb82a5",
   "metadata": {},
   "outputs": [],
   "source": [
    "a=[12,-15,-47,87,-32,52,45]\n",
    "b=list(filter(lambda x:x>0,a))\n",
    "print(b)"
   ]
  },
  {
   "cell_type": "code",
   "execution_count": null,
   "id": "f2dda785",
   "metadata": {},
   "outputs": [],
   "source": [
    "a=[12,-15,-47,87,-32,52,45]\n",
    "b=list(filter(lambda x:x==abs(x),a))\n",
    "print(b)"
   ]
  },
  {
   "cell_type": "code",
   "execution_count": null,
   "id": "e462ba86",
   "metadata": {},
   "outputs": [],
   "source": [
    "a=[12,-15,-47,87,-32,52,45]\n",
    "b=[n for n in a if n>0]\n",
    "print(b)"
   ]
  },
  {
   "cell_type": "raw",
   "id": "8c152852",
   "metadata": {},
   "source": [
    "115. Write a Python program to compute the product of a list of integers (without using a for loop)"
   ]
  },
  {
   "cell_type": "code",
   "execution_count": null,
   "id": "e1a9f579",
   "metadata": {},
   "outputs": [],
   "source": [
    "from functools import reduce\n",
    "a=[10,20,30]\n",
    "b=reduce((lambda x,y:x*y),a)\n",
    "print(b)"
   ]
  },
  {
   "cell_type": "raw",
   "id": "72eafc42",
   "metadata": {},
   "source": [
    "116. Write a Python program to print Unicode characters."
   ]
  },
  {
   "cell_type": "code",
   "execution_count": null,
   "id": "f5e90438",
   "metadata": {},
   "outputs": [],
   "source": [
    "a=\"p\"\n",
    "b=ord(a)\n",
    "print(b)\n",
    "print(chr(b))"
   ]
  },
  {
   "cell_type": "code",
   "execution_count": null,
   "id": "894bde67",
   "metadata": {},
   "outputs": [],
   "source": [
    "s= 'p'\n",
    "print(ord(s))\n"
   ]
  },
  {
   "cell_type": "code",
   "execution_count": null,
   "id": "0201f117",
   "metadata": {},
   "outputs": [],
   "source": [
    "a=\"priyanka\"\n",
    "c=''.join(r'\\u{:04X}'.format(ord(b))for b in a)\n",
    "print(c)\n",
    "b=u'\\u0070\\u0072\\u0069\\u0079\\u0061\\u006E\\u006B\\u0061'\n",
    "print(b)"
   ]
  },
  {
   "cell_type": "raw",
   "id": "992ed339",
   "metadata": {},
   "source": [
    "117. Write a Python program to prove that two string variables of the same value point to the same memory location"
   ]
  },
  {
   "cell_type": "code",
   "execution_count": null,
   "id": "39a270b5",
   "metadata": {},
   "outputs": [],
   "source": [
    "a='python'\n",
    "b='python'\n",
    "print(id(a))\n",
    "print(id(b))"
   ]
  },
  {
   "cell_type": "raw",
   "id": "b4e6664c",
   "metadata": {},
   "source": [
    "118. Write a Python program to create a bytearray from a list."
   ]
  },
  {
   "cell_type": "code",
   "execution_count": null,
   "id": "31994130",
   "metadata": {},
   "outputs": [],
   "source": [
    "nums = [10, 20, 56, 35, 17, 99]\n",
    "values=bytearray(nums)\n",
    "print(values)\n",
    "for x in values:print(x)"
   ]
  },
  {
   "cell_type": "raw",
   "id": "58085266",
   "metadata": {},
   "source": [
    "119. Write a Python program to round a floating-point number to a specified number of decimal places"
   ]
  },
  {
   "cell_type": "code",
   "execution_count": null,
   "id": "5a1022f3",
   "metadata": {},
   "outputs": [],
   "source": [
    "fl=12.254\n",
    "num=int(fl)\n",
    "print(num)"
   ]
  },
  {
   "cell_type": "code",
   "execution_count": null,
   "id": "304a4e71",
   "metadata": {},
   "outputs": [],
   "source": [
    "num=45.454525\n",
    "b=round(num,2)\n",
    "print(b)"
   ]
  },
  {
   "cell_type": "code",
   "execution_count": null,
   "id": "e83a0ada",
   "metadata": {},
   "outputs": [],
   "source": [
    "num=45.12345\n",
    "print(\"%f\"%num)\n",
    "print(\"%.2f\"%num)"
   ]
  },
  {
   "cell_type": "raw",
   "id": "3a410618",
   "metadata": {},
   "source": [
    "120. Write a Python program to format a specified string and limit the length of a string."
   ]
  },
  {
   "cell_type": "code",
   "execution_count": null,
   "id": "18f7689b",
   "metadata": {},
   "outputs": [],
   "source": [
    "name=\"priyanka\"\n",
    "print(\"%s\"%name)\n",
    "print(\"%.3s\"%name)"
   ]
  },
  {
   "cell_type": "raw",
   "id": "d8c014e3",
   "metadata": {},
   "source": [
    "121. Write a Python program to determine if a variable is defined or not."
   ]
  },
  {
   "cell_type": "code",
   "execution_count": null,
   "id": "ec3fe183",
   "metadata": {},
   "outputs": [],
   "source": [
    "try :\n",
    "    x=1\n",
    "except NameError:\n",
    "    print(\"not defined \")\n",
    "else:\n",
    "    print(\"defined\")\n",
    "try:\n",
    "  y\n",
    "except NameError:\n",
    "  print(\"Variable is not defined....!\")\n",
    "else:\n",
    "  print(\"Variable is defined.\")"
   ]
  },
  {
   "cell_type": "code",
   "execution_count": null,
   "id": "92367974",
   "metadata": {},
   "outputs": [],
   "source": [
    "n = 20\n",
    "d = {\"x\":200}\n",
    "l = [1,3,5]\n",
    "t= (5,7,8)\n",
    "print(type(a)())\n",
    "print(type(d)())\n",
    "print(type(l)())\n",
    "print(type(t)())"
   ]
  },
  {
   "cell_type": "raw",
   "id": "7f5b4f50",
   "metadata": {},
   "source": [
    "123. Write a Python program to determine the largest and smallest integers, longs, and floats"
   ]
  },
  {
   "cell_type": "code",
   "execution_count": null,
   "id": "ff9ed115",
   "metadata": {},
   "outputs": [],
   "source": [
    "import sys\n",
    "print(sys.float_info)\n",
    "print(\"\\n\",sys.int_info)\n",
    "print(\"\\nMaximum size of an integer: \",sys.maxsize) "
   ]
  },
  {
   "cell_type": "raw",
   "id": "f98f8aad",
   "metadata": {},
   "source": [
    "124. Write a Python program to check whether multiple variables have the same value."
   ]
  },
  {
   "cell_type": "code",
   "execution_count": null,
   "id": "fd5144cc",
   "metadata": {},
   "outputs": [],
   "source": [
    "x,y,z=20,20,20\n",
    "if x==y==z:\n",
    "    print(\"all are same\")"
   ]
  },
  {
   "cell_type": "raw",
   "id": "10c92314",
   "metadata": {},
   "source": [
    "125. Write a Python program to sum all counts in a collection."
   ]
  },
  {
   "cell_type": "code",
   "execution_count": null,
   "id": "743f4a8d",
   "metadata": {},
   "outputs": [],
   "source": [
    "import collections"
   ]
  },
  {
   "cell_type": "code",
   "execution_count": null,
   "id": "f165b2b6",
   "metadata": {},
   "outputs": [],
   "source": [
    "s=[1,3,5,7,9,1,3,5,8]\n",
    "collections.Counter(s)"
   ]
  },
  {
   "cell_type": "code",
   "execution_count": null,
   "id": "534fedee",
   "metadata": {},
   "outputs": [],
   "source": [
    "sum(collections.Counter(s).values())"
   ]
  },
  {
   "cell_type": "raw",
   "id": "ceb48df1",
   "metadata": {},
   "source": [
    "126. Write a Python program to get the actual module object for a given object."
   ]
  },
  {
   "cell_type": "code",
   "execution_count": null,
   "id": "e50eb370",
   "metadata": {},
   "outputs": [],
   "source": [
    "import inspect"
   ]
  },
  {
   "cell_type": "code",
   "execution_count": null,
   "id": "8f14198c",
   "metadata": {},
   "outputs": [],
   "source": [
    "def add(x,y):\n",
    "    return x+y\n",
    "a=add(12,13)\n",
    "print(a)"
   ]
  },
  {
   "cell_type": "code",
   "execution_count": null,
   "id": "12195a24",
   "metadata": {},
   "outputs": [],
   "source": [
    "print(inspect.getmodule(add))"
   ]
  },
  {
   "cell_type": "code",
   "execution_count": null,
   "id": "805562a9",
   "metadata": {},
   "outputs": [],
   "source": [
    "from math import log2\n",
    "b=log2(10)\n",
    "print(b)"
   ]
  },
  {
   "cell_type": "code",
   "execution_count": null,
   "id": "9304fa20",
   "metadata": {},
   "outputs": [],
   "source": [
    "print(inspect.getmodule(log2))"
   ]
  },
  {
   "cell_type": "raw",
   "id": "cd5d5ca4",
   "metadata": {},
   "source": [
    "127. Write a Python program to check whether an integer fits in 64 bits."
   ]
  },
  {
   "cell_type": "raw",
   "id": "674dea24",
   "metadata": {},
   "source": [
    "128. Write a Python program to check whether lowercase letters exist in a string."
   ]
  },
  {
   "cell_type": "code",
   "execution_count": null,
   "id": "442237b7",
   "metadata": {},
   "outputs": [],
   "source": [
    "s=\"pagtERT\"\n",
    "d=\"\"\n",
    "for i in s:\n",
    "    if i.islower():\n",
    "        d=d+i\n",
    "print(d)"
   ]
  },
  {
   "cell_type": "raw",
   "id": "bae24f17",
   "metadata": {},
   "source": [
    "129. Write a Python program to add leading zeroes to a string."
   ]
  },
  {
   "cell_type": "code",
   "execution_count": null,
   "id": "c3c91402",
   "metadata": {},
   "outputs": [],
   "source": [
    "st=input(\"Enter string : \")\n",
    "new='0'+st\n",
    "print(new)\n",
    "print(st.ljust(10,'0'))\n",
    "print(st.rjust(10,'0'))"
   ]
  },
  {
   "cell_type": "code",
   "execution_count": null,
   "id": "b0322939",
   "metadata": {},
   "outputs": [],
   "source": [
    "st=\"12.12\"\n",
    "new1=st.ljust(8,'0')\n",
    "print(new1)\n",
    "new2=st.rjust(8,'0')\n",
    "print(new2)"
   ]
  },
  {
   "cell_type": "raw",
   "id": "a9f656a6",
   "metadata": {},
   "source": [
    "130. Write a Python program that uses double quotes to display strings."
   ]
  },
  {
   "cell_type": "code",
   "execution_count": null,
   "id": "f63c0bb4",
   "metadata": {},
   "outputs": [],
   "source": [
    "import json"
   ]
  },
  {
   "cell_type": "code",
   "execution_count": null,
   "id": "d8d005c4",
   "metadata": {},
   "outputs": [],
   "source": [
    "print(json.dumps({'alex':1,'priya':2}))"
   ]
  },
  {
   "cell_type": "raw",
   "id": "d7d67d63",
   "metadata": {},
   "source": [
    "131. Write a Python program to split a variable length string into variables."
   ]
  },
  {
   "cell_type": "code",
   "execution_count": null,
   "id": "fefcafad",
   "metadata": {},
   "outputs": [],
   "source": [
    "var_list=['a','b','d','e']\n",
    "x,y,z,m=var_list\n",
    "print(x,y,z,m)"
   ]
  },
  {
   "cell_type": "raw",
   "id": "91905386",
   "metadata": {},
   "source": [
    "132. Write a Python program to list the home directory without an absolute path."
   ]
  },
  {
   "cell_type": "code",
   "execution_count": null,
   "id": "fd40a1fb",
   "metadata": {},
   "outputs": [],
   "source": [
    "import os"
   ]
  },
  {
   "cell_type": "code",
   "execution_count": null,
   "id": "6c2c6fc8",
   "metadata": {},
   "outputs": [],
   "source": [
    "print(os.path.expanduser(\"~\"))"
   ]
  },
  {
   "cell_type": "raw",
   "id": "dcc7a560",
   "metadata": {},
   "source": [
    "133. Write a Python program to calculate the time runs (difference between start and current time) of a program."
   ]
  },
  {
   "cell_type": "code",
   "execution_count": 6,
   "id": "c37f260e",
   "metadata": {},
   "outputs": [
    {
     "name": "stdout",
     "output_type": "stream",
     "text": [
      "12345\n"
     ]
    },
    {
     "ename": "ValueError",
     "evalue": "not enough values to unpack (expected 2, got 1)",
     "output_type": "error",
     "traceback": [
      "\u001b[1;31m---------------------------------------------------------------------------\u001b[0m",
      "\u001b[1;31mValueError\u001b[0m                                Traceback (most recent call last)",
      "Input \u001b[1;32mIn [6]\u001b[0m, in \u001b[0;36m<cell line: 1>\u001b[1;34m()\u001b[0m\n\u001b[1;32m----> 1\u001b[0m a, b \u001b[38;5;241m=\u001b[39m \u001b[38;5;28mmap\u001b[39m(\u001b[38;5;28mint\u001b[39m,\u001b[38;5;28minput\u001b[39m()\u001b[38;5;241m.\u001b[39msplit())\n\u001b[0;32m      2\u001b[0m \u001b[38;5;28mprint\u001b[39m(\u001b[38;5;124m\"\u001b[39m\u001b[38;5;124mThe value of a & b are:\u001b[39m\u001b[38;5;124m\"\u001b[39m,a,b)\n",
      "\u001b[1;31mValueError\u001b[0m: not enough values to unpack (expected 2, got 1)"
     ]
    }
   ],
   "source": [
    "\n",
    "a, b = map(int,input().split())\n",
    "print(\"The value of a & b are:\",a,b)"
   ]
  },
  {
   "cell_type": "raw",
   "id": "1cbf11af",
   "metadata": {},
   "source": [
    "135. Write a Python program to print a variable without spaces between values.\n",
    "Sample value : x =30\n",
    "Expected output : Value of x is \"30\""
   ]
  },
  {
   "cell_type": "code",
   "execution_count": 13,
   "id": "4e26f42f",
   "metadata": {},
   "outputs": [
    {
     "name": "stdout",
     "output_type": "stream",
     "text": [
      "value of \"30\" \n"
     ]
    }
   ],
   "source": [
    "x =     30\n",
    "print(\"value of \\\"{}\\\" \".format(x))"
   ]
  },
  {
   "cell_type": "raw",
   "id": "c48a2234",
   "metadata": {},
   "source": [
    "136. Write a Python program to find files and skip directories in a given directory."
   ]
  },
  {
   "cell_type": "code",
   "execution_count": 22,
   "id": "a8c5d6df",
   "metadata": {},
   "outputs": [
    {
     "name": "stdout",
     "output_type": "stream",
     "text": [
      "['LCM_program.ipynb', 'python pattern.ipynb', 'Python_basics.ipynb', 'python_basics1.ipynb', 'xyz.ipynb']\n"
     ]
    }
   ],
   "source": [
    "import os\n",
    "print([f for f in os.listdir(\"C:/Users/Welcome/Desktop/Python/python\") if os.path.isfile(os.path.join(\"C:/Users/Welcome/Desktop/Python/python\",f))])"
   ]
  },
  {
   "cell_type": "code",
   "execution_count": 26,
   "id": "6324cb5d",
   "metadata": {},
   "outputs": [
    {
     "name": "stdout",
     "output_type": "stream",
     "text": [
      "['2_Data_analysis_with_python.ipynb', 'movie-recommender-system-tmdb-dataset-main.zip']\n"
     ]
    }
   ],
   "source": [
    "print([f for f in os.listdir(\"C:/Users/Welcome/Desktop/Python/ML projects\")if os.path.isfile(os.path.join(\"C:/Users/Welcome/Desktop/Python/ML projects\",f))])"
   ]
  },
  {
   "cell_type": "raw",
   "id": "569cde72",
   "metadata": {},
   "source": [
    "137. Write a Python program to extract a single key-value pair from a dictionary into variables."
   ]
  },
  {
   "cell_type": "code",
   "execution_count": 32,
   "id": "5ddf8040",
   "metadata": {},
   "outputs": [
    {
     "name": "stdout",
     "output_type": "stream",
     "text": [
      "Red\n",
      "Green\n"
     ]
    }
   ],
   "source": [
    "d = {'Red': 'Green'}\n",
    "(c1, c2), = d.items()\n",
    "print(c1)\n",
    "print(c2)"
   ]
  },
  {
   "cell_type": "code",
   "execution_count": 34,
   "id": "d27ab2fa",
   "metadata": {},
   "outputs": [
    {
     "name": "stdout",
     "output_type": "stream",
     "text": [
      "Extract specific key, value\n",
      "('key1', 'val1')\n",
      "val1\n"
     ]
    }
   ],
   "source": [
    "dict = {'key1': 'val1', 'key2': 'val2', 'key3': 'val3', 'key4': 'val4'}\n",
    "print(\"Extract specific key, value\")\n",
    "a = list(dict.items())[0]\n",
    "print(a)\n",
    "print(y)"
   ]
  },
  {
   "cell_type": "raw",
   "id": "51638538",
   "metadata": {},
   "source": [
    "138. Write a Python program to convert true to 1 and false to 0."
   ]
  },
  {
   "cell_type": "code",
   "execution_count": 35,
   "id": "2b9a6532",
   "metadata": {},
   "outputs": [
    {
     "name": "stdout",
     "output_type": "stream",
     "text": [
      "1\n",
      "0\n"
     ]
    }
   ],
   "source": [
    "x=True\n",
    "x=int(x==True)\n",
    "print(x)\n",
    "y='abcd'\n",
    "y=int(y==True)\n",
    "print(y)"
   ]
  },
  {
   "cell_type": "raw",
   "id": "1eed0cac",
   "metadata": {},
   "source": [
    "139. Write a Python program to validate an IP address."
   ]
  },
  {
   "cell_type": "raw",
   "id": "1a4ff784",
   "metadata": {},
   "source": [
    "140. Write a Python program to convert an integer to binary that keeps leading zeros.\n",
    "Sample data : x=12\n",
    "Expected output : 00001100"
   ]
  },
  {
   "cell_type": "code",
   "execution_count": 40,
   "id": "a67ac7f5",
   "metadata": {},
   "outputs": [
    {
     "name": "stdout",
     "output_type": "stream",
     "text": [
      "00000b1100\n"
     ]
    }
   ],
   "source": [
    "x=12\n",
    "a=bin(x)\n",
    "print(a.rjust(10,'0'))"
   ]
  },
  {
   "cell_type": "code",
   "execution_count": 41,
   "id": "e5fb30ee",
   "metadata": {},
   "outputs": [
    {
     "name": "stdout",
     "output_type": "stream",
     "text": [
      "00001100\n"
     ]
    }
   ],
   "source": [
    "##authentic\n",
    "print(format(x,'08b'))"
   ]
  },
  {
   "cell_type": "raw",
   "id": "2570ceb7",
   "metadata": {},
   "source": [
    "141. Write a python program to convert decimal to hexadecimal.\n",
    "Sample decimal number: 30, 4\n",
    "Expected output: 1e, 04"
   ]
  },
  {
   "cell_type": "code",
   "execution_count": 45,
   "id": "2842d8a1",
   "metadata": {},
   "outputs": [
    {
     "name": "stdout",
     "output_type": "stream",
     "text": [
      "0x1e 0x4\n"
     ]
    }
   ],
   "source": [
    "x,y=30,4\n",
    "a=hex(x)\n",
    "b=hex(y)\n",
    "print(a,b)"
   ]
  },
  {
   "cell_type": "code",
   "execution_count": 47,
   "id": "407b1660",
   "metadata": {},
   "outputs": [
    {
     "name": "stdout",
     "output_type": "stream",
     "text": [
      "1E\n",
      "04\n"
     ]
    }
   ],
   "source": [
    "print(format(x,'02X'))\n",
    "print(format(y,'02x'))"
   ]
  },
  {
   "cell_type": "raw",
   "id": "31c28480",
   "metadata": {},
   "source": [
    "142. Write a Python program to check if every consecutive sequence of zeroes is followed by a consecutive sequence of ones of same length in a given string. Return True/False.\n",
    "Original sequence: 01010101\n",
    "Check if every consecutive sequence of zeroes is followed by a consecutive sequence of ones in the said string:\n",
    "True\n",
    "Original sequence: 00\n",
    "Check if every consecutive sequence of zeroes is followed by a consecutive sequence of ones in the said string:\n",
    "False\n",
    "Original sequence: 000111000111\n",
    "Check if every consecutive sequence of zeroes is followed by a consecutive sequence of ones in the said string:\n",
    "True\n",
    "Original sequence: 00011100011\n",
    "Check if every consecutive sequence of zeroes is followed by a consecutive sequence of ones in the said string:\n",
    "False"
   ]
  },
  {
   "cell_type": "code",
   "execution_count": 52,
   "id": "4502ed58",
   "metadata": {},
   "outputs": [
    {
     "name": "stdout",
     "output_type": "stream",
     "text": [
      "Original sequence: 01010101\n",
      "Check if every consecutive sequence of zeroes is followed by a consecutive sequence of ones in the said string:\n",
      "True\n",
      "\n",
      "Original sequence: 00\n",
      "Check if every consecutive sequence of zeroes is followed by a consecutive sequence of ones in the said string:\n",
      "False\n",
      "\n",
      "Original sequence: 000111000111\n",
      "Check if every consecutive sequence of zeroes is followed by a consecutive sequence of ones in the said string:\n",
      "True\n",
      "\n",
      "Original sequence: 00011100011\n",
      "Check if every consecutive sequence of zeroes is followed by a consecutive sequence of ones in the said string:\n",
      "False\n"
     ]
    }
   ],
   "source": [
    "def test(str1):\n",
    "    while '01' in str1:\n",
    "        str1 = str1.replace('01', '')\n",
    "    return len(str1) == 0\n",
    "    \n",
    "str1 = \"01010101\"\n",
    "print(\"Original sequence:\",str1)\n",
    "print(\"Check if every consecutive sequence of zeroes is followed by a consecutive sequence of ones in the said string:\")\n",
    "print(test(str1))\n",
    "str1 = \"00\"\n",
    "print(\"\\nOriginal sequence:\",str1)\n",
    "print(\"Check if every consecutive sequence of zeroes is followed by a consecutive sequence of ones in the said string:\")\n",
    "print(test(str1))\n",
    "str1 = \"000111000111\"\n",
    "print(\"\\nOriginal sequence:\",str1)\n",
    "print(\"Check if every consecutive sequence of zeroes is followed by a consecutive sequence of ones in the said string:\")\n",
    "print(test(str1))\n",
    "str1 = \"00011100011\"\n",
    "print(\"\\nOriginal sequence:\",str1)\n",
    "print(\"Check if every consecutive sequence of zeroes is followed by a consecutive sequence of ones in the said string:\")\n",
    "print(test(str1))"
   ]
  },
  {
   "cell_type": "code",
   "execution_count": 60,
   "id": "02e98271",
   "metadata": {},
   "outputs": [],
   "source": [
    "def test1(str1):\n",
    "    temp=[]\n",
    "    for i in str1:\n",
    "        if '0'==i:\n",
    "            temp.append(0)\n",
    "        else:\n",
    "            temp.pop()\n",
    "    return not temp"
   ]
  },
  {
   "cell_type": "code",
   "execution_count": 62,
   "id": "b512e6aa",
   "metadata": {},
   "outputs": [
    {
     "name": "stdout",
     "output_type": "stream",
     "text": [
      "Original sequence: 01010101\n",
      "Check if every consecutive sequence of zeroes is followed by a consecutive sequence of ones in the said string:\n",
      "True\n"
     ]
    }
   ],
   "source": [
    "str1 = \"01010101\"\n",
    "print(\"Original sequence:\",str1)\n",
    "print(\"Check if every consecutive sequence of zeroes is followed by a consecutive sequence of ones in the said string:\")\n",
    "print(test1(str1))"
   ]
  },
  {
   "cell_type": "raw",
   "id": "6c8e9361",
   "metadata": {},
   "source": [
    "143. Write a Python program to determine if the Python shell is executing in 32-bit or 64-bit mode on the operating system."
   ]
  },
  {
   "cell_type": "code",
   "execution_count": 65,
   "id": "b7f3bb01",
   "metadata": {},
   "outputs": [
    {
     "name": "stdout",
     "output_type": "stream",
     "text": [
      "8\n"
     ]
    }
   ],
   "source": [
    "import struct\n",
    "print(struct.calcsize(\"P\") )"
   ]
  },
  {
   "cell_type": "raw",
   "id": "eadd7277",
   "metadata": {},
   "source": [
    "144. Write a Python program to check whether a variable is an integer or string."
   ]
  },
  {
   "cell_type": "code",
   "execution_count": 71,
   "id": "b473217c",
   "metadata": {},
   "outputs": [
    {
     "name": "stdout",
     "output_type": "stream",
     "text": [
      "It is an integer\n"
     ]
    }
   ],
   "source": [
    "s=\"123\"\n",
    "if type(s)==int or s.isnumeric():\n",
    "    print(\"It is an integer\")\n",
    "else:\n",
    "    print(\"It is string\")"
   ]
  },
  {
   "cell_type": "code",
   "execution_count": 78,
   "id": "94692e2e",
   "metadata": {},
   "outputs": [
    {
     "name": "stdout",
     "output_type": "stream",
     "text": [
      "False\n"
     ]
    }
   ],
   "source": [
    "print(isinstance(s,int)  )"
   ]
  },
  {
   "cell_type": "raw",
   "id": "67e82010",
   "metadata": {},
   "source": [
    "145. Write a Python program to test if a variable is a list, tuple, or set."
   ]
  },
  {
   "cell_type": "code",
   "execution_count": 88,
   "id": "8d7b4350",
   "metadata": {},
   "outputs": [],
   "source": [
    "def test1(data):\n",
    "    if type(data)==list:\n",
    "        print(\"its is a list\")\n",
    "    elif type(data)==set:\n",
    "        print(\"It is set\")\n",
    "    else:\n",
    "        print(\"it is tuple\")"
   ]
  },
  {
   "cell_type": "code",
   "execution_count": 91,
   "id": "7f1f9f31",
   "metadata": {},
   "outputs": [
    {
     "name": "stdout",
     "output_type": "stream",
     "text": [
      "It is set\n"
     ]
    }
   ],
   "source": [
    "test1({1,2,3})"
   ]
  },
  {
   "cell_type": "code",
   "execution_count": 81,
   "id": "5ccc5774",
   "metadata": {},
   "outputs": [
    {
     "data": {
      "text/plain": [
       "list"
      ]
     },
     "execution_count": 81,
     "metadata": {},
     "output_type": "execute_result"
    }
   ],
   "source": [
    "d=[1,2,3]\n",
    "type(d)"
   ]
  },
  {
   "cell_type": "raw",
   "id": "e68c4a9a",
   "metadata": {},
   "source": [
    "# 146. Write a Python program to find the location of Python module sources."
   ]
  },
  {
   "cell_type": "code",
   "execution_count": 93,
   "id": "436290db",
   "metadata": {},
   "outputs": [],
   "source": [
    "import imp"
   ]
  },
  {
   "cell_type": "code",
   "execution_count": 94,
   "id": "5550f532",
   "metadata": {},
   "outputs": [
    {
     "name": "stdout",
     "output_type": "stream",
     "text": [
      "(<_io.TextIOWrapper name='C:\\\\ProgramData\\\\Anaconda3\\\\lib\\\\os.py' mode='r' encoding='utf-8'>, 'C:\\\\ProgramData\\\\Anaconda3\\\\lib\\\\os.py', ('.py', 'r', 1))\n"
     ]
    }
   ],
   "source": [
    "print(imp.find_module('os'))"
   ]
  },
  {
   "cell_type": "raw",
   "id": "879bf5d0",
   "metadata": {},
   "source": [
    "147. Write a Python function to check whether a number is divisible by another number. Accept two integer values from the user."
   ]
  },
  {
   "cell_type": "code",
   "execution_count": 96,
   "id": "c73521f1",
   "metadata": {},
   "outputs": [
    {
     "name": "stdout",
     "output_type": "stream",
     "text": [
      "Enter 12\n",
      "Enetr 45\n",
      "not divisable\n"
     ]
    }
   ],
   "source": [
    "a=int(input(\"Enter \"))\n",
    "b=int(input(\"Enetr \"))\n",
    "\n",
    "if a%b==0:\n",
    "    print(\"number is divisible\")\n",
    "else:\n",
    "    print(\"not divisable\")"
   ]
  },
  {
   "cell_type": "code",
   "execution_count": 97,
   "id": "41a076bb",
   "metadata": {},
   "outputs": [],
   "source": [
    "def divisable(a,b):\n",
    "    return True if a%b==0 else False"
   ]
  },
  {
   "cell_type": "code",
   "execution_count": 98,
   "id": "36e2ed96",
   "metadata": {},
   "outputs": [
    {
     "data": {
      "text/plain": [
       "True"
      ]
     },
     "execution_count": 98,
     "metadata": {},
     "output_type": "execute_result"
    }
   ],
   "source": [
    "divisable(12,12)"
   ]
  },
  {
   "cell_type": "raw",
   "id": "35a51d6c",
   "metadata": {},
   "source": [
    "148. Write a Python function to find the maximum and minimum numbers from a sequence of numbers"
   ]
  },
  {
   "cell_type": "code",
   "execution_count": 99,
   "id": "b47afad2",
   "metadata": {},
   "outputs": [],
   "source": [
    "def seq(data):\n",
    "    l=data[0]\n",
    "    s=data[0]\n",
    "    for i in data:\n",
    "        if i >l:\n",
    "            l=i\n",
    "        elif i<s:\n",
    "            s=i\n",
    "    return l,s"
   ]
  },
  {
   "cell_type": "code",
   "execution_count": 100,
   "id": "50c5c960",
   "metadata": {},
   "outputs": [
    {
     "data": {
      "text/plain": [
       "(87, 1)"
      ]
     },
     "execution_count": 100,
     "metadata": {},
     "output_type": "execute_result"
    }
   ],
   "source": [
    "seq([1,45,87,23,14])"
   ]
  },
  {
   "cell_type": "raw",
   "id": "91ce48e4",
   "metadata": {},
   "source": [
    "149. Write a Python function that takes a positive integer and returns the sum of the cube of all positive integers smaller than the specified number."
   ]
  },
  {
   "cell_type": "code",
   "execution_count": 121,
   "id": "c4cadb41",
   "metadata": {},
   "outputs": [],
   "source": [
    "def cube(num):\n",
    "    result=0\n",
    "    for i in range(num+1):\n",
    "        result+=(i**3)\n",
    "    \n",
    "    return result"
   ]
  },
  {
   "cell_type": "code",
   "execution_count": 122,
   "id": "21275efc",
   "metadata": {},
   "outputs": [
    {
     "data": {
      "text/plain": [
       "100"
      ]
     },
     "execution_count": 122,
     "metadata": {},
     "output_type": "execute_result"
    }
   ],
   "source": [
    "cube(4)"
   ]
  },
  {
   "cell_type": "raw",
   "id": "93f4912c",
   "metadata": {},
   "source": [
    "150. Write a Python function to check whether a distinct pair of numbers whose product is odd is present in a sequence of integer values."
   ]
  },
  {
   "cell_type": "code",
   "execution_count": 123,
   "id": "9abbb454",
   "metadata": {},
   "outputs": [],
   "source": [
    "def odd_product(nums):\n",
    "    for i in range(len(nums)):\n",
    "        for j in range(len(nums)):\n",
    "            if i!=j:\n",
    "                product=nums[i]*nums[j]\n",
    "                if product & 1:\n",
    "                    return True\n",
    "    return False"
   ]
  },
  {
   "cell_type": "code",
   "execution_count": 125,
   "id": "fccb60db",
   "metadata": {},
   "outputs": [
    {
     "name": "stdout",
     "output_type": "stream",
     "text": [
      "False\n"
     ]
    }
   ],
   "source": [
    "print(odd_product([2,4,6,8]))"
   ]
  },
  {
   "cell_type": "code",
   "execution_count": 127,
   "id": "fc63d8f7",
   "metadata": {},
   "outputs": [
    {
     "name": "stdout",
     "output_type": "stream",
     "text": [
      "False\n"
     ]
    }
   ],
   "source": [
    "def odd_fnc(num):\n",
    "    for i in range(len(num)):\n",
    "        for j in range(len(num)):\n",
    "            if i!=j:\n",
    "                product=num[i]*num[j]\n",
    "                if product & 1:\n",
    "                    return True\n",
    "    return False\n",
    "print(odd_fnc([2,4,6,8]))"
   ]
  },
  {
   "cell_type": "code",
   "execution_count": null,
   "id": "3190f83a",
   "metadata": {},
   "outputs": [],
   "source": []
  }
 ],
 "metadata": {
  "kernelspec": {
   "display_name": "Python 3 (ipykernel)",
   "language": "python",
   "name": "python3"
  },
  "language_info": {
   "codemirror_mode": {
    "name": "ipython",
    "version": 3
   },
   "file_extension": ".py",
   "mimetype": "text/x-python",
   "name": "python",
   "nbconvert_exporter": "python",
   "pygments_lexer": "ipython3",
   "version": "3.9.12"
  }
 },
 "nbformat": 4,
 "nbformat_minor": 5
}
